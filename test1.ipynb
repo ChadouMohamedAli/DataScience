{
  "nbformat": 4,
  "nbformat_minor": 0,
  "metadata": {
    "colab": {
      "name": "Untitled6.ipynb",
      "provenance": [],
      "authorship_tag": "ABX9TyPOWLWfro0SUgtSISRMQYp7",
      "include_colab_link": true
    },
    "kernelspec": {
      "name": "python3",
      "display_name": "Python 3"
    },
    "language_info": {
      "name": "python"
    }
  },
  "cells": [
    {
      "cell_type": "markdown",
      "metadata": {
        "id": "view-in-github",
        "colab_type": "text"
      },
      "source": [
        "<a href=\"https://colab.research.google.com/github/ChadouMohamedAli/DataScience/blob/master/test1.ipynb\" target=\"_parent\"><img src=\"https://colab.research.google.com/assets/colab-badge.svg\" alt=\"Open In Colab\"/></a>"
      ]
    },
    {
      "cell_type": "code",
      "execution_count": null,
      "metadata": {
        "id": "2G5T-Divlr5j"
      },
      "outputs": [],
      "source": [
        "!pip install easyocr\n",
        "!pip install opencv-python-headless==4.5.2.52"
      ]
    },
    {
      "cell_type": "code",
      "source": [
        "#imports\n",
        "import numpy as np\n",
        "import cv2\n",
        "import matplotlib.pyplot as plt\n",
        "\n",
        "from skimage.filters import threshold_local\n",
        "from PIL import Image\n",
        "\n",
        "import easyocr\n",
        "%matplotlib inline\n",
        "from pylab import rcParams\n",
        "rcParams['figure.figsize'] = 8, 16"
      ],
      "metadata": {
        "id": "IxH_F7tEls9H"
      },
      "execution_count": null,
      "outputs": []
    },
    {
      "cell_type": "code",
      "source": [
        "file_name = '/content/272245558_676650323707637_4587561786254083039_n.jpg'\n",
        "img = cv2.imread(file_name)\n",
        "dsize = (600, 400)\n",
        "img1 = cv2.resize(img, dsize, interpolation = cv2.INTER_AREA)\n",
        "kernel = np.ones((2, 2), np.uint8)\n",
        "img3 = cv2.erode(img1, kernel, iterations=1)\n",
        "text_reader = easyocr.Reader(['ar']) #Initialzing the ocr\n",
        "results = text_reader.readtext(img3,allowlist='',blocklist='<,:;!*',paragraph=True)\n",
        "for (bbox, text) in results:\n",
        "    print(text)\n",
        "plt.imshow(img3)"
      ],
      "metadata": {
        "id": "pwk0PV2LlzL2"
      },
      "execution_count": null,
      "outputs": []
    },
    {
      "cell_type": "code",
      "source": [
        "#################################### \n",
        "\n",
        "def get_CinID(img):\n",
        "  dsize = (600, 400)\n",
        "  im=img3\n",
        "  im = img3[30:100, 40:325] #170:500, 50:300\n",
        "  #im = cv2.resize(im, dsize, interpolation = cv2.INTER_AREA)\n",
        "  kernel = np.ones((2, 2), np.uint8)\n",
        "  im = cv2.erode(im, kernel, iterations=2)\n",
        "  text_reader = easyocr.Reader(['en']) #Initialzing the ocr\n",
        "  #allowlist = '0123456789'\n",
        "  #rotation_info=[90,180,270]\n",
        "  #paragraph=True\n",
        "  results = text_reader.readtext(im,allowlist='0123456789',blocklist=',:;!*+',contrast_ths=2,text_threshold=0.85)\n",
        "  for (bbox, text, prob) in results:\n",
        "      print('>>>',text)\n",
        "  plt.imshow(im)\n",
        "\n",
        "#################################### \n",
        "\n",
        "def get_CinP(img):\n",
        "  dsize = (600, 400)\n",
        "  imp=img3\n",
        "  imp = imp[90:185, 30:525] #170:500, 50:300\n",
        "  #imp = cv2.resize(imp, dsize, interpolation = cv2.INTER_AREA)\n",
        "  kernel = np.ones((2, 2), np.uint8)\n",
        "  imp = cv2.erode(imp, kernel, iterations=1)\n",
        "  text_reader = easyocr.Reader(['ar']) #Initialzing the ocr\n",
        "  #allowlist = '0123456789'\n",
        "  #rotation_info=[90,180,270]\n",
        "  #paragraph=True\n",
        "  results = text_reader.readtext(imp,allowlist='',blocklist=',:;!*+',contrast_ths=2,text_threshold=0.85)\n",
        "  for (bbox, text, prob) in results:\n",
        "      print('>>>',text)\n",
        "  plt.imshow(imp)\n",
        "\n",
        "#################################### \n",
        "\n",
        "def get_CinN(img):\n",
        "  dsize = (600, 400)\n",
        "  imn=img3\n",
        "  imn = imn[160:245, 30:525] #170:500, 50:300\n",
        "  kernel = np.ones((1, 1), np.uint8)\n",
        "  imn = cv2.erode(imn, kernel, iterations=2)\n",
        "  text_reader = easyocr.Reader(['ar']) #Initialzing the ocr\n",
        "  #allowlist = '0123456789'\n",
        "  #rotation_info=[90,180,270]\n",
        "  #paragraph=True\n",
        "  results = text_reader.readtext(imn,allowlist='',blocklist=',:;!*+',contrast_ths=2,text_threshold=0.85)\n",
        "  for (bbox, text, prob) in results:\n",
        "      print('>>>',text)\n",
        "  plt.imshow(imn)\n",
        "\n",
        "#################################### \n",
        "\n",
        "def get_CinDN(img):\n",
        "  dsize = (600, 400)\n",
        "  imd=img3\n",
        "  imd = imd[260:335, 30:465] #170:500, 50:300\n",
        "  #imp = cv2.resize(imp, dsize, interpolation = cv2.INTER_AREA)\n",
        "\n",
        "  kernel = np.ones((1, 1), np.uint8)\n",
        "  imd = cv2.erode(imd, kernel, iterations=2)\n",
        "  text_reader = easyocr.Reader(['ar']) #Initialzing the ocr\n",
        "  #allowlist = '0123456789'\n",
        "  #rotation_info=[90,180,270]\n",
        "  #paragraph=True\n",
        "  results = text_reader.readtext(imd,allowlist='',blocklist=',:;!*+',contrast_ths=2,text_threshold=0.85,paragraph=True)\n",
        "  for (bbox, text) in results:\n",
        "      print('>>>',text)\n",
        "  plt.imshow(imd)\n",
        "\n",
        "#################################### \n",
        "\n",
        "def get_CinLN(img):\n",
        "  dsize = (600, 400)\n",
        "  iml=img3\n",
        "  iml = iml[315:400, 30:540] #170:500, 50:300\n",
        "  kernel = np.ones((1, 1), np.uint8)\n",
        "  iml = cv2.erode(iml, kernel, iterations=2)\n",
        "  text_reader = easyocr.Reader(['ar']) #Initialzing the ocr\n",
        "\n",
        "  results = text_reader.readtext(iml,allowlist='',blocklist=',:;!*+',contrast_ths=2,text_threshold=0.85)\n",
        "  for (bbox, text, prob) in results:\n",
        "      print('>>>',text)\n",
        "  plt.imshow(iml)"
      ],
      "metadata": {
        "id": "Y0prgU3vl5MF"
      },
      "execution_count": null,
      "outputs": []
    }
  ]
}